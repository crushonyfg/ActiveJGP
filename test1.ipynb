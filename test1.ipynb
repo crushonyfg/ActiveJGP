{
 "cells": [
  {
   "cell_type": "code",
   "execution_count": 1,
   "id": "94ea1f32-3090-4bee-bd69-f847b146382a",
   "metadata": {},
   "outputs": [],
   "source": [
    "import numpy as np\n",
    "\n",
    "x = np.array([\n",
    "    [-1.24910365, -0.21904738],\n",
    "    [-1.9628843, -0.51466743],\n",
    "    [-1.38231985, -0.83929468],\n",
    "    [-0.65453261, -0.37499752]\n",
    "])\n",
    "\n",
    "y = np.array([\n",
    "    [0.86662341],\n",
    "    [0.10482995],\n",
    "    [0.22962605],\n",
    "    [-0.19049319]\n",
    "])\n",
    "\n",
    "xt = np.array([\n",
    "    [-1.49636334, 0.06123541]\n",
    "])\n",
    "\n",
    "px = np.array([\n",
    "    [-1.24910365, -0.21904738],\n",
    "    [-1.9628843, -0.51466743],\n",
    "    [-1.38231985, -0.83929468],\n",
    "    [-0.65453261, -0.37499752]\n",
    "])\n",
    "\n",
    "pxt = np.array([\n",
    "    [-1.49636334, 0.06123541]\n",
    "])\n",
    "\n",
    "w = np.array([\n",
    "    [-0.10679169],\n",
    "    [-0.26786012],\n",
    "    [0.99288109]\n",
    "])\n",
    "\n",
    "logtheta = np.array([0, 0, 0, -1.15])\n"
   ]
  },
  {
   "cell_type": "code",
   "execution_count": 2,
   "id": "9cdbefdb-6843-40ed-9f50-5050ce244e0e",
   "metadata": {},
   "outputs": [],
   "source": [
    "from JumpGP_code_py.maximize_PD import *"
   ]
  },
  {
   "cell_type": "code",
   "execution_count": 4,
   "id": "66749bf5-4fda-495b-91c8-641149ccfacd",
   "metadata": {},
   "outputs": [
    {
     "name": "stderr",
     "output_type": "stream",
     "text": [
      "C:\\Users\\yxu59\\AppData\\Local\\miniconda3\\envs\\jumpGP\\Lib\\site-packages\\scipy\\stats\\_distn_infrastructure.py:2027: RuntimeWarning: divide by zero encountered in divide\n",
      "  x = np.asarray((x - loc)/scale, dtype=dtyp)\n",
      "C:\\Users\\yxu59\\AppData\\Local\\miniconda3\\envs\\jumpGP\\Lib\\site-packages\\scipy\\stats\\_distn_infrastructure.py:2027: RuntimeWarning: invalid value encountered in divide\n",
      "  x = np.asarray((x - loc)/scale, dtype=dtyp)\n",
      "C:\\Users\\yxu59\\AppData\\Local\\miniconda3\\envs\\jumpGP\\Lib\\site-packages\\numpy\\_core\\fromnumeric.py:3904: RuntimeWarning: Mean of empty slice.\n",
      "  return _methods._mean(a, axis=axis, dtype=dtype,\n",
      "C:\\Users\\yxu59\\AppData\\Local\\miniconda3\\envs\\jumpGP\\Lib\\site-packages\\numpy\\_core\\_methods.py:147: RuntimeWarning: invalid value encountered in scalar divide\n",
      "  ret = ret.dtype.type(ret / rcount)\n",
      "C:\\Users\\yxu59\\AppData\\Local\\miniconda3\\envs\\jumpGP\\Lib\\site-packages\\numpy\\_core\\fromnumeric.py:3904: RuntimeWarning: Mean of empty slice.\n",
      "  return _methods._mean(a, axis=axis, dtype=dtype,\n",
      "C:\\Users\\yxu59\\AppData\\Local\\miniconda3\\envs\\jumpGP\\Lib\\site-packages\\numpy\\_core\\_methods.py:147: RuntimeWarning: invalid value encountered in scalar divide\n",
      "  ret = ret.dtype.type(ret / rcount)\n",
      "C:\\Users\\yxu59\\autumn2024\\codeBase\\code_al_jgp_py\\JumpGP_code_py\\maximize_PD.py:121: RuntimeWarning: invalid value encountered in divide\n",
      "  'nll': loglikelihood(logtheta, covSum, [covSEard, covNoise], x[r1,:], y[r1]) / np.sum(r1),\n"
     ]
    },
    {
     "data": {
      "text/plain": [
       "{'x': array([[-1.24910365, -0.21904738],\n",
       "        [-1.9628843 , -0.51466743],\n",
       "        [-1.38231985, -0.83929468],\n",
       "        [-0.65453261, -0.37499752]]),\n",
       " 'y': array([[ 0.86662341],\n",
       "        [ 0.10482995],\n",
       "        [ 0.22962605],\n",
       "        [-0.19049319]]),\n",
       " 'RR': np.float64(nan),\n",
       " 'fs': array([[nan]]),\n",
       " 'sigma': np.float64(nan),\n",
       " 'xt': array([[-1.49636334,  0.06123541]]),\n",
       " 'px': array([[-1.24910365, -0.21904738],\n",
       "        [-1.9628843 , -0.51466743],\n",
       "        [-1.38231985, -0.83929468],\n",
       "        [-0.65453261, -0.37499752]]),\n",
       " 'pxt': array([[-1.49636334,  0.06123541]]),\n",
       " 'nll': np.float64(nan),\n",
       " 'r': array([[False],\n",
       "        [False],\n",
       "        [False],\n",
       "        [False]]),\n",
       " 'gamma': array([[nan],\n",
       "        [nan],\n",
       "        [nan],\n",
       "        [nan]]),\n",
       " 'nw': np.float64(46.48964413809032),\n",
       " 'w': array([-0.22056991, -0.10773327,  0.96940314]),\n",
       " 'ms': nan,\n",
       " 'logtheta': array([  0.        ,   0.        , -23.38865227, -15.09661113]),\n",
       " 'cv': [<function JumpGP_code_py.cov.covSum.covSum(covfunc, logtheta=None, x=None, z=None)>,\n",
       "  [<function JumpGP_code_py.cov.covSEard.covSEard(loghyper=None, x=None, z=None)>,\n",
       "   <function JumpGP_code_py.cov.covNoise.covNoise(logtheta=None, x=None, z=None)>]],\n",
       " 'mu_t': array([[nan]]),\n",
       " 'sig2_t': array([[7.7134774e-14]])}"
      ]
     },
     "execution_count": 4,
     "metadata": {},
     "output_type": "execute_result"
    }
   ],
   "source": [
    "cv = [covSum, [covSEard, covNoise]]\n",
    "maximize_PD(x, y, xt, px, pxt, w, logtheta, cv, bVerbose=False)"
   ]
  },
  {
   "cell_type": "code",
   "execution_count": 5,
   "id": "cab75bf9-5168-4c48-a48b-7326ac19c719",
   "metadata": {},
   "outputs": [],
   "source": [
    "nw = np.linalg.norm(w)\n",
    "w = w / nw\n",
    "nIter = 100\n",
    "\n",
    "phi_xt = np.dot(np.hstack(([1], pxt[0])), w) #phi_xt shape (1,Nt)\n",
    "w = w * np.sign(phi_xt)\n",
    "gx, phi_x = calculate_gx(px, w)\n",
    "\n",
    "r = gx >= 0"
   ]
  },
  {
   "cell_type": "code",
   "execution_count": 8,
   "id": "c8e5719c-18cf-4418-9880-40d339aafbf8",
   "metadata": {},
   "outputs": [
    {
     "name": "stderr",
     "output_type": "stream",
     "text": [
      "C:\\Users\\yxu59\\AppData\\Local\\miniconda3\\envs\\jumpGP\\Lib\\site-packages\\scipy\\stats\\_distn_infrastructure.py:2027: RuntimeWarning: divide by zero encountered in divide\n",
      "  x = np.asarray((x - loc)/scale, dtype=dtyp)\n",
      "C:\\Users\\yxu59\\AppData\\Local\\miniconda3\\envs\\jumpGP\\Lib\\site-packages\\scipy\\stats\\_distn_infrastructure.py:2027: RuntimeWarning: invalid value encountered in divide\n",
      "  x = np.asarray((x - loc)/scale, dtype=dtyp)\n",
      "C:\\Users\\yxu59\\AppData\\Local\\miniconda3\\envs\\jumpGP\\Lib\\site-packages\\numpy\\_core\\fromnumeric.py:3904: RuntimeWarning: Mean of empty slice.\n",
      "  return _methods._mean(a, axis=axis, dtype=dtype,\n",
      "C:\\Users\\yxu59\\AppData\\Local\\miniconda3\\envs\\jumpGP\\Lib\\site-packages\\numpy\\_core\\_methods.py:147: RuntimeWarning: invalid value encountered in scalar divide\n",
      "  ret = ret.dtype.type(ret / rcount)\n",
      "C:\\Users\\yxu59\\AppData\\Local\\miniconda3\\envs\\jumpGP\\Lib\\site-packages\\numpy\\_core\\fromnumeric.py:3904: RuntimeWarning: Mean of empty slice.\n",
      "  return _methods._mean(a, axis=axis, dtype=dtype,\n",
      "C:\\Users\\yxu59\\AppData\\Local\\miniconda3\\envs\\jumpGP\\Lib\\site-packages\\numpy\\_core\\_methods.py:147: RuntimeWarning: invalid value encountered in scalar divide\n",
      "  ret = ret.dtype.type(ret / rcount)\n"
     ]
    }
   ],
   "source": [
    "err_flag = False\n",
    "for k in range(10):\n",
    "    r1 = r.flatten()\n",
    "    ms = np.mean(y[r1]).item()\n",
    "    try:\n",
    "        logtheta = minimize(loglikelihood, logtheta, args=(covSum, [covSEard, covNoise], x[r1,:], y[r1] - ms), options={'maxiter': nIter}).x\n",
    "    except:\n",
    "        print(f\"we fail at iteration {k}\")\n",
    "        err_flag = True\n",
    "\n",
    "    K = covSum([covSEard, covNoise], logtheta, x[r1,:])\n",
    "    _, Kt = covSum([covSEard, covNoise], logtheta, x[r1,:], x)\n",
    "    L = cholesky(K, lower=True)\n",
    "    Ly = np.linalg.solve(L, y[r1] - ms)\n",
    "    LK = np.linalg.solve(L, Kt)\n",
    "    fs = np.dot(LK.T, Ly) + ms\n",
    "    \n",
    "    sigma = np.sqrt(np.mean((y[r1] - fs[r1]) ** 2))\n",
    "    \n",
    "    like = norm.pdf(y, loc=fs, scale=sigma)\n",
    "    RR = norm.pdf(2.5 * sigma, loc=0, scale=sigma)\n",
    "    prior_z = 1 / (1 + np.exp(-0.05 * nw * gx))\n",
    "    prior_z = prior_z.reshape(-1,1)\n",
    "    pos_z = prior_z * like / (prior_z * like + (1 - prior_z) * RR)\n",
    "    \n",
    "    r = pos_z >= 0.5\n",
    "    # r1 = r.flatten()\n",
    "    \n",
    "    def wfun(wo):\n",
    "        phi_w = np.dot(phi_x, wo)\n",
    "        return -np.sum(r.T * np.log(1 / (1 + np.exp(-phi_w))) + (1 - r).T * np.log(1 - 1 / (1 + np.exp(-phi_w))) )\n",
    "\n",
    "    w_flattened = w.ravel()\n",
    "    from scipy.optimize import LinearConstraint\n",
    "    lc = LinearConstraint(-np.array([1, *pxt.flatten()]), ub=0)\n",
    "\n",
    "    # constraints = {'type': 'ineq', 'fun': lambda wo: np.dot(np.array([1, *pxt.flatten()]), wo)}  # -[1, pxt]\n",
    "    w_new = minimize(wfun, w_flattened, constraints=lc, options={'disp': False}).x\n",
    "    # constraints = {'type': 'ineq', 'fun': lambda wo: -np.array([1, *wo])}  # -[1, pxt]\n",
    "    # w_new = minimize(wfun, w_flattened, constraints=constraints, options={'disp': False}).x\n",
    "    # w_new = minimize(wfun, w_flattened, bounds=[(-np.inf, np.inf)], method='SLSQP').x\n",
    "    # w_new = w_new.reshape(w.shape)\n",
    "    conv_crit = np.linalg.norm(w_new / np.linalg.norm(w_new) - w / np.linalg.norm(w))\n",
    "    if conv_crit < 1e-3:\n",
    "        break\n",
    "    \n",
    "    w = w_new\n",
    "    nw = np.linalg.norm(w)\n",
    "    w = w / nw\n",
    "    gx, phi_x = calculate_gx(px, w)\n",
    "    \n",
    "    if err_flag:\n",
    "        break"
   ]
  },
  {
   "cell_type": "code",
   "execution_count": 10,
   "id": "c03f3fb8-7725-4cd4-a315-ee267e10a6e7",
   "metadata": {},
   "outputs": [
    {
     "data": {
      "text/plain": [
       "array([[False],\n",
       "       [False],\n",
       "       [False],\n",
       "       [False]])"
      ]
     },
     "execution_count": 10,
     "metadata": {},
     "output_type": "execute_result"
    }
   ],
   "source": [
    "r"
   ]
  },
  {
   "cell_type": "code",
   "execution_count": null,
   "id": "f6b8a4bb-3ef7-4210-8a25-48014960c8a6",
   "metadata": {},
   "outputs": [],
   "source": []
  }
 ],
 "metadata": {
  "kernelspec": {
   "display_name": "Python 3 (ipykernel)",
   "language": "python",
   "name": "python3"
  },
  "language_info": {
   "codemirror_mode": {
    "name": "ipython",
    "version": 3
   },
   "file_extension": ".py",
   "mimetype": "text/x-python",
   "name": "python",
   "nbconvert_exporter": "python",
   "pygments_lexer": "ipython3",
   "version": "3.12.7"
  }
 },
 "nbformat": 4,
 "nbformat_minor": 5
}
