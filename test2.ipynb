{
 "cells": [
  {
   "cell_type": "code",
   "execution_count": 1,
   "id": "41beb83f-66ba-4dfe-ba8d-43d0faecef06",
   "metadata": {},
   "outputs": [],
   "source": [
    "from JumpGP_code_py.cov.covSum import covSum\n",
    "from JumpGP_code_py.cov.covSEard import covSEard\n",
    "from JumpGP_code_py.cov.covNoise import covNoise\n",
    "from JumpGP_code_py.lik.loglikelihood import loglikelihood\n",
    "import numpy as np\n",
    "from scipy.optimize import minimize\n",
    "from JumpGP_code_py.local_linearfit import local_linearfit\n",
    "from JumpGP_code_py.calculate_gx import calculate_gx\n",
    "from JumpGP_code_py.maximize_PD import maximize_PD\n",
    "from JumpGP_code_py.JumpGP_LD import JumpGP_LD\n",
    "from JumpGP_code_py.simulate_case import simulate_case\n",
    "\n",
    "import matplotlib.pyplot as plt\n",
    "from sklearn.neighbors import NearestNeighbors\n",
    "from skimage import measure\n",
    "\n",
    "import numpy as np\n",
    "from scipy.optimize import minimize\n",
    "from scipy.linalg import cholesky\n",
    "from scipy.stats import norm\n",
    "\n",
    "from JumpGP_code_py.lik.loglikelihood import loglikelihood\n",
    "from JumpGP_code_py.calculate_gx import calculate_gx\n",
    "from JumpGP_code_py.cov.covSum import covSum\n",
    "from JumpGP_code_py.cov.covSEard import covSEard\n",
    "from JumpGP_code_py.cov.covNoise import covNoise\n",
    "from JumpGP_code_py.lik.loglikelihood import loglikelihood\n",
    "\n",
    "from ActiveJGP import ActiveJGP\n",
    "\n",
    "import importlib"
   ]
  },
  {
   "cell_type": "code",
   "execution_count": 2,
   "id": "cf834349-0898-437f-965b-21a62cde5c9b",
   "metadata": {},
   "outputs": [],
   "source": [
    "output = False"
   ]
  },
  {
   "cell_type": "code",
   "execution_count": 3,
   "id": "8d137331-ddeb-4fc8-abb5-68ecf6ea0c95",
   "metadata": {},
   "outputs": [
    {
     "name": "stdout",
     "output_type": "stream",
     "text": [
      "***loglike:316.2454265693302\n"
     ]
    }
   ],
   "source": [
    "n = 100  # 行数\n",
    "D = 5  # 列数\n",
    "n_test = 20\n",
    "\n",
    "x = np.random.randn(n, D)  # 生成 n x D 的随机矩阵\n",
    "x0 = np.random.randn(n_test, D)\n",
    "\n",
    "# 随机生成 Target Outputs (y)\n",
    "y = np.random.randn(n, 1)  # 生成 n 行 1 列的随机列向量\n",
    "\n",
    "# 随机生成 logtheta\n",
    "logtheta = np.random.randn(D+2)  # 生成 D+1 维的随机向量\n",
    "loglike = loglikelihood(logtheta, covSum, [covSEard, covNoise], x, y)\n",
    "print(f\"***loglike:{loglike}\")\n",
    "\n",
    "# 转换为 MATLAB 赋值语句\n",
    "x_matlab = '\\n'.join([' '.join(map(str, row)) for row in x])\n",
    "y_matlab = '\\n'.join(map(str, y.flatten()))\n",
    "x_test_matlab = '\\n'.join([' '.join(map(str, row)) for row in x0])\n",
    "logtheta_matlab = ';\\n'.join(map(str, logtheta))\n",
    "\n",
    "if output is True:\n",
    "    print(\"MATLAB 赋值语句：\")\n",
    "    print(f\"x = [{x_matlab}];\")\n",
    "    print(f\"y = [{y_matlab}];\")\n",
    "    print(f\"x0 = [{x_test_matlab}];\")\n",
    "    print(f\"logtheta = [{logtheta_matlab}];\")\n",
    "    print(f\"loglike = loglikelihood(logtheta, cv,x,y);\")\n"
   ]
  },
  {
   "cell_type": "code",
   "execution_count": 33,
   "id": "34460702-e70e-4f23-bf96-312343ffdc3a",
   "metadata": {},
   "outputs": [],
   "source": [
    "def print_matlab(x, y, x0):\n",
    "    x_matlab = '\\n'.join([' '.join(map(str, row)) for row in x])\n",
    "    y_matlab = '\\n'.join(map(str, y.flatten()))\n",
    "    x_test_matlab = '\\n'.join([' '.join(map(str, row)) for row in x0])\n",
    "    # logtheta_matlab = ';\\n'.join(map(str, logtheta))\n",
    "\n",
    "    print(\"MATLAB 赋值语句：\")\n",
    "    print(f\"x = [{x_matlab}];\")\n",
    "    print(f\"y = [{y_matlab}];\")\n",
    "    print(f\"xt = [{x_test_matlab}];\")\n",
    "    # print(f\"logtheta = [{logtheta_matlab}];\")\n",
    "    # print(f\"loglike = loglikelihood(logtheta, cv,x,y);\")"
   ]
  },
  {
   "cell_type": "code",
   "execution_count": 4,
   "id": "64f19067-01b4-483c-9d54-05de48176aad",
   "metadata": {},
   "outputs": [],
   "source": [
    "methods = ['MIN_IMSPE', 'MIN_ALC', 'MAX_MSPE', 'MAX_VAR', 'GP_ALC', 'JGP_LHD', 'GP_LHD']"
   ]
  },
  {
   "cell_type": "code",
   "execution_count": 5,
   "id": "076c6c72-c50a-4691-9441-4e8273d8f2f2",
   "metadata": {},
   "outputs": [],
   "source": [
    "k = 0"
   ]
  },
  {
   "cell_type": "code",
   "execution_count": 6,
   "id": "89960868-db94-4c37-b22d-c8d49ac453df",
   "metadata": {},
   "outputs": [],
   "source": [
    "import ActiveJGP\n",
    "importlib.reload(ActiveJGP)\n",
    "from ActiveJGP import ActiveJGP"
   ]
  },
  {
   "cell_type": "code",
   "execution_count": 7,
   "id": "32b4f4e3-c2cb-41db-bdc2-08bc431bad12",
   "metadata": {},
   "outputs": [
    {
     "name": "stdout",
     "output_type": "stream",
     "text": [
      "[[47 12 81 88  3 83 41 58 66 61 64 23 92 55 33]\n",
      " [68  1 50 62 18 34 82  2 30 48 85  4 89 94 74]\n",
      " [48 82 92 18 77 15 41 65 68  1 61 47  8  2 21]\n",
      " [20 11 52 19 44 57  0 26 72 89 41 78  3 79 98]\n",
      " [61 23 74 44  1 83 85 65 48 68  5 90 87 62 38]\n",
      " [ 7 63 11 25 26 27 57 76 35 52 78 14 65 91 20]\n",
      " [19 89 54 82  0 20 18 41 21 97 72 15 52 51 59]\n",
      " [86 15  2 24  6 77 54 18 21 30 82 35 22 73 95]\n",
      " [66 64  8 12 47 17 39 55 41  9 88 92 81 80 28]\n",
      " [ 6 46 76 29 17 59 86 84 15 27 21 80 54 97 53]\n",
      " [80 39 27 28 17 22 76 84 92 15 66 21 53 64 59]\n",
      " [30 14  4 99 16 86 35 53 94 96 13 25  6  9 10]\n",
      " [89 26 35 19 54 78 20 99 51  0 18 25 82 24 97]\n",
      " [77 48 22 87  5 65  1 61 80 86 38 90 42 68 63]\n",
      " [53 17  9 64 91 96 39 60 29 76 21 16 37 35 46]\n",
      " [16 30  4 35 96 99  9 53 14 13 86 60 89 91 17]\n",
      " [33  0 72 19 52 57 44 20 41 81 78 93 11 79  3]\n",
      " [48 56 61 77 90 12 22 55 87  9 74  1 65 68 73]\n",
      " [73  2  8 86  6 77 68 48 30 15 82 17 16 18 92]\n",
      " [40 54 51 19 97 20 25 24 59 95 21 89 26 52  0]]\n",
      "now m is 0, the prediction value is 0.9392640296478139\n",
      "now m is 1, the prediction value is -0.002533937332906161\n",
      "now m is 2, the prediction value is -0.07852713411918534\n",
      "now m is 3, the prediction value is 0.23756065730317502\n",
      "now m is 4, the prediction value is 0.8434009123022168\n",
      "now m is 5, the prediction value is -0.5378183246474766\n",
      "now m is 6, the prediction value is -0.03956537982339498\n",
      "now m is 7, the prediction value is -0.5466511535687827\n",
      "now m is 8, the prediction value is -0.48462021403167754\n",
      "now m is 9, the prediction value is -0.6153991180349112\n",
      "now m is 10, the prediction value is -0.20152847369620283\n",
      "now m is 11, the prediction value is -0.47273114702316543\n",
      "now m is 12, the prediction value is 2.7036189467738674\n",
      "we fail at iteration 1\n",
      "now m is 13, the prediction value is -0.012490360327549053\n",
      "now m is 14, the prediction value is -0.23555146145484301\n",
      "now m is 15, the prediction value is -1.041754460727585\n",
      "now m is 16, the prediction value is -0.15805240949365035\n",
      "now m is 17, the prediction value is 0.5372674346817358\n",
      "now m is 18, the prediction value is -0.569315831079425\n",
      "now m is 19, the prediction value is 0.34184696244445617\n",
      "We start the second phase!\n",
      "check is there any nan in prediction:[ 9.39264030e-01 -2.53393733e-03 -7.85271341e-02  2.37560657e-01\n",
      "  8.43400912e-01 -5.37818325e-01 -3.95653798e-02 -5.46651154e-01\n",
      " -4.84620214e-01 -6.15399118e-01 -2.01528474e-01 -4.72731147e-01\n",
      "  2.70361895e+00 -1.24903603e-02 -2.35551461e-01 -1.04175446e+00\n",
      " -1.58052409e-01  5.37267435e-01 -5.69315831e-01  3.41846962e-01]\n",
      "we fail at iteration 2\n"
     ]
    }
   ],
   "source": [
    "mode = methods[k]\n",
    "xt = x0\n",
    "xt_next, criteria, bias2_changes, var_changes, pred, pred_xt, pred_var, pred_bias = ActiveJGP(x, y, xt, mode)"
   ]
  },
  {
   "cell_type": "code",
   "execution_count": 8,
   "id": "e2e75bd1-6e63-4c0c-a07a-0e7809e73d9f",
   "metadata": {},
   "outputs": [
    {
     "data": {
      "text/plain": [
       "(array([-0.32908324,  2.37046612,  0.37083695, -1.3170471 , -0.7889676 ]),\n",
       " array([ 0.01207091, -0.07331481, -0.34235791,  0.19709524,  0.1739356 ,\n",
       "         0.85312502, -0.13581187, -0.86943404,  0.06684922,  0.05752756,\n",
       "        -0.67022782,  0.12472552, -0.20791679,  0.00536433, -1.56955422,\n",
       "        -0.44691627,  0.72026908,  0.40219094, -0.46316237,  0.52639229]),\n",
       " array([-0.01078984, -0.30440391, -0.6013274 ,  0.        ,  0.        ,\n",
       "         0.09414486, -0.39571008,  0.        ,  0.57234134,  0.        ,\n",
       "         0.09786856, -0.02558815,  0.        ,  0.09420012, -0.58000962,\n",
       "        -0.46815366, -0.51341942, -0.35000055,  0.        ,  0.        ]),\n",
       " array([ 0.02286075,  0.2310891 ,  0.2589695 ,  0.19709524,  0.1739356 ,\n",
       "         0.75898016,  0.25989821, -0.86943404, -0.50549212,  0.05752756,\n",
       "        -0.76809637,  0.15031367, -0.20791679, -0.08883579, -0.98954461,\n",
       "         0.02123739,  1.23368849,  0.7521915 , -0.46316237,  0.52639229]),\n",
       " array([ 9.39264030e-01, -2.53393733e-03, -7.85271341e-02,  2.37560657e-01,\n",
       "         8.43400912e-01, -5.37818325e-01, -3.95653798e-02, -5.46651154e-01,\n",
       "        -4.84620214e-01, -6.15399118e-01, -2.01528474e-01, -4.72731147e-01,\n",
       "         2.70361895e+00, -1.24903603e-02, -2.35551461e-01, -1.04175446e+00,\n",
       "        -1.58052409e-01,  5.37267435e-01, -5.69315831e-01,  3.41846962e-01]),\n",
       " np.float64(-0.5378183246474766),\n",
       " array([2.28606708e-01, 3.79743555e-01, 7.65523698e-01, 1.85789859e+00,\n",
       "        1.73935598e-01, 7.58981115e-01, 9.64541886e-01, 6.67389647e-01,\n",
       "        4.21136284e-02, 5.75277000e-02, 8.30961491e-01, 1.97614968e-01,\n",
       "        1.22907350e-11, 4.20574412e-01, 1.01893123e-02, 7.99230746e-04,\n",
       "        1.32082034e+00, 3.34192611e-01, 4.20048084e-01, 5.14780409e-01]),\n",
       " array([ 0.9320594 , -0.        , -0.        , -0.        , -0.        ,\n",
       "        -0.55265568, -0.        , -0.        , -0.63784611, -0.        ,\n",
       "        -0.        , -0.        , -0.        , -0.        ,  0.32926853,\n",
       "        -0.53164464, -0.        ,  0.30692038, -0.        , -0.        ]))"
      ]
     },
     "execution_count": 8,
     "metadata": {},
     "output_type": "execute_result"
    }
   ],
   "source": [
    "xt_next, criteria, bias2_changes, var_changes, pred, pred_xt, pred_var, pred_bias"
   ]
  },
  {
   "cell_type": "code",
   "execution_count": 26,
   "id": "0983ee0d-bbc9-49bd-9363-d267f522c83b",
   "metadata": {},
   "outputs": [
    {
     "name": "stdout",
     "output_type": "stream",
     "text": [
      "[[70 62  1 10 40 15 60 82 12 90 47 89 98  8  3]\n",
      " [40 82 89  8 15 10 13  3 59 66 23 72 67 78 94]\n",
      " [86 55 20 52  3 13 51 92 78 19  8 82 85 53 72]\n",
      " [75 39 41 97 25 83 57 85 80 94 46 89 82 33 69]\n",
      " [62 12 90 10 15 70 71 98 96 32 31 40 64 94 89]\n",
      " [93 73 67 78 42 96 65 10 16 34 89 36 82 66  2]\n",
      " [82  8 89 97 40 75 41 85 10 26 11 69 13 67 39]\n",
      " [94 25 83 39 97 61 29 31 80 15 18 57 22 40 32]\n",
      " [73 16 67 28 85  5 91 89 78 22 94 63 25 57 81]\n",
      " [89 81 94 56 85 97 82 10 78 15 67 73 59 32 28]\n",
      " [52  8 13 55 26  1 82 40 70 58 51  3 69 89 86]\n",
      " [86 20  8 52 13 55 82 53  3 85 14 51 75 41 26]\n",
      " [75 41 85 57 67 25  2 66 39 97 83 82 89  8 46]\n",
      " [40 47 15 23 72 59 66 89 83 12 82 90 71 94 48]\n",
      " [66  2 83 48 67 40 38 57 94 89 13 82 41 25 85]\n",
      " [ 8 13 40 82 69 26 72 89 53 55 66 51 59 47  3]\n",
      " [56 50 84 78 81 63  3 89 85 92 86 82 53 16 59]\n",
      " [85 16 75 41 67 89 73 86 82 57  5 97 91 53 25]\n",
      " [69 26  8 76 53 40 13  7 41  0 59 58 39 83 82]\n",
      " [ 1 39 26 97 40 80 58 69  8 76 46 25 62 82 83]]\n"
     ]
    }
   ],
   "source": [
    "args = []\n",
    "N, D = x.shape\n",
    "y = y.reshape(-1,1)\n",
    "if y.shape[0] != N:\n",
    "    raise ValueError(\"Row sizes of x and y should be the same!\")\n",
    "if xt.shape[1] != D:\n",
    "    raise ValueError(\"Column size of x should match column size of xt!\")\n",
    "\n",
    "# Handling optional arguments\n",
    "k = args[1] if len(args) > 1 else min(15, round(N * 0.2))\n",
    "\n",
    "M = xt.shape[0]\n",
    "bias2_changes = np.zeros(M)\n",
    "var_changes = np.zeros(M)\n",
    "pred = np.zeros(M)\n",
    "pred_var = np.zeros(M)\n",
    "pred_bias = np.zeros(M)\n",
    "bias2 = np.zeros(M)\n",
    "var = np.zeros(M)\n",
    "\n",
    "# Nearest neighbors\n",
    "nbrs = NearestNeighbors(n_neighbors=k).fit(x)\n",
    "idx = nbrs.kneighbors(xt, return_distance=False)\n",
    "print(idx)\n",
    "\n",
    "models = [None] * M"
   ]
  },
  {
   "cell_type": "code",
   "execution_count": 28,
   "id": "02f19a84-f1a4-476d-88fa-0d748bcf31e2",
   "metadata": {},
   "outputs": [],
   "source": [
    "import copy\n",
    "m = 6\n",
    "xt_j = copy.deepcopy(xt[m, :].reshape(-1, D))\n",
    "x_j = copy.deepcopy(x[idx[m, :], :])\n",
    "y_j = copy.deepcopy(y[idx[m, :]])"
   ]
  },
  {
   "cell_type": "code",
   "execution_count": 29,
   "id": "94098f50-b304-496f-96fc-dc1fd1f76e5a",
   "metadata": {},
   "outputs": [
    {
     "name": "stderr",
     "output_type": "stream",
     "text": [
      "C:\\Users\\yxu59\\AppData\\Local\\Temp\\ipykernel_5936\\1695829151.py:1: DeprecationWarning: Conversion of an array with ndim > 0 to a scalar is deprecated, and will error in future. Ensure you extract a single element from your array before performing this operation. (Deprecated NumPy 1.25.)\n",
      "  pred[m], _, tmp_model, _ = JumpGP_LD(x_j, y_j, xt_j, 'CEM', 0)\n"
     ]
    }
   ],
   "source": [
    "pred[m], _, tmp_model, _ = JumpGP_LD(x_j, y_j, xt_j, 'CEM', 0)"
   ]
  },
  {
   "cell_type": "code",
   "execution_count": 31,
   "id": "1d6f5ac7-749a-4e75-b1b7-e555095aa7ad",
   "metadata": {},
   "outputs": [
    {
     "data": {
      "text/plain": [
       "(array([[-0.24433199,  0.0504445 ,  0.47479247, -0.63858668,  0.00224485],\n",
       "        [-0.63895818,  0.06153958,  0.74409429,  0.16581657,  0.44921288],\n",
       "        [ 0.15139006,  0.14151837,  0.16331329, -0.55879265, -0.19611712],\n",
       "        [-0.14444252,  0.7385595 ,  0.50661664,  0.00286416, -1.17253819],\n",
       "        [-0.73882793,  0.69109294, -0.04839477, -0.17719018,  0.224128  ],\n",
       "        [-0.38198806, -0.52888474,  0.71898291,  0.49619065, -0.88483679],\n",
       "        [-0.37453679, -0.42441857,  0.34844396,  0.75173337, -0.55746313],\n",
       "        [ 0.3256974 , -0.56355434,  0.3122346 ,  0.12420065, -0.34879665],\n",
       "        [-0.09030511,  0.7568936 , -0.11590703, -1.57633405, -0.33979573],\n",
       "        [-1.35950116,  0.25250721,  0.76261812,  0.89102322,  0.2697348 ],\n",
       "        [ 0.26191327,  0.49106946,  1.71255363,  0.27519452, -1.31822318],\n",
       "        [-0.80266502,  0.41105912,  0.55013768,  1.03295145,  0.27265339],\n",
       "        [-0.80339285, -0.85025974,  0.2154507 ,  0.03102398,  0.64398248],\n",
       "        [-0.00844478, -0.78950884, -0.33983383, -0.53106931, -0.64198102],\n",
       "        [-0.80376203,  0.64068238,  0.36799789,  1.06344552, -0.97662747]]),\n",
       " array([[ 1.62851399],\n",
       "        [-0.02941929],\n",
       "        [ 0.18766815],\n",
       "        [ 1.37645518],\n",
       "        [-1.20629736],\n",
       "        [-0.17866224],\n",
       "        [-2.24546244],\n",
       "        [ 0.41459583],\n",
       "        [-1.42786274],\n",
       "        [ 0.25498326],\n",
       "        [-0.33142672],\n",
       "        [-1.85594592],\n",
       "        [ 3.25267642],\n",
       "        [ 0.13420821],\n",
       "        [ 1.04677757]]),\n",
       " array([[-0.7572563 ,  0.229991  ,  0.98187091, -0.54346067, -0.47225854]]))"
      ]
     },
     "execution_count": 31,
     "metadata": {},
     "output_type": "execute_result"
    }
   ],
   "source": [
    "x_j, y_j, xt_j"
   ]
  },
  {
   "cell_type": "code",
   "execution_count": 34,
   "id": "b6873873-ec44-466f-a74f-29bcfe7d8ee4",
   "metadata": {},
   "outputs": [
    {
     "name": "stdout",
     "output_type": "stream",
     "text": [
      "MATLAB 赋值语句：\n",
      "x = [-0.24433199068219094 0.05044450202916717 0.4747924686539036 -0.6385866812806132 0.0022448547795987884\n",
      "-0.6389581841418899 0.06153957963475387 0.7440942895362784 0.1658165739377887 0.44921288073636734\n",
      "0.1513900616910642 0.14151836586407052 0.163313294981226 -0.5587926523871454 -0.19611712227553962\n",
      "-0.14444252236206762 0.7385595048024631 0.5066166362836926 0.002864161565029359 -1.1725381898549847\n",
      "-0.7388279284495607 0.691092936383982 -0.04839477310323366 -0.17719017941379123 0.22412800159796117\n",
      "-0.3819880637450307 -0.5288847356026766 0.7189829062182337 0.4961906519619119 -0.884836786315632\n",
      "-0.37453678616638797 -0.4244185729515599 0.34844396461163013 0.7517333684806362 -0.5574631330506424\n",
      "0.3256973988955894 -0.5635543398183354 0.3122346023241812 0.12420065277083443 -0.34879665263963694\n",
      "-0.0903051108058979 0.7568935971489539 -0.11590702755029751 -1.5763340528061767 -0.3397957270837957\n",
      "-1.3595011564839323 0.25250721007135296 0.7626181238543979 0.8910232167571979 0.26973480132438804\n",
      "0.2619132729360634 0.4910694551342093 1.7125536335888711 0.27519452115063364 -1.3182231812751861\n",
      "-0.8026650236723601 0.411059117914851 0.5501376804613856 1.0329514502752137 0.27265339116398085\n",
      "-0.8033928498345256 -0.8502597358693074 0.2154507040761594 0.031023980864234926 0.6439824754505199\n",
      "-0.008444783014489055 -0.7895088419221976 -0.33983383382103616 -0.5310693114684033 -0.6419810237772191\n",
      "-0.8037620267459301 0.6406823808045475 0.36799788918091664 1.0634455199690056 -0.9766274705656962];\n",
      "y = [1.628513992489016\n",
      "-0.029419287146462775\n",
      "0.18766815218759078\n",
      "1.3764551804150988\n",
      "-1.2062973631637643\n",
      "-0.17866223879782353\n",
      "-2.2454624356540935\n",
      "0.41459583416126244\n",
      "-1.4278627365650454\n",
      "0.25498326037221775\n",
      "-0.33142672006439394\n",
      "-1.8559459240467462\n",
      "3.252676422767847\n",
      "0.13420821430979932\n",
      "1.0467775676728914];\n",
      "xt = [-0.7572562966241996 0.22999099707790172 0.9818709100626849 -0.5434606746139504 -0.4722585430845752];\n"
     ]
    }
   ],
   "source": [
    "print_matlab(x_j, y_j, xt_j)"
   ]
  },
  {
   "cell_type": "code",
   "execution_count": null,
   "id": "5b865b7f-7719-4dec-b2ca-4ed61f092601",
   "metadata": {},
   "outputs": [],
   "source": []
  }
 ],
 "metadata": {
  "kernelspec": {
   "display_name": "Python 3 (ipykernel)",
   "language": "python",
   "name": "python3"
  },
  "language_info": {
   "codemirror_mode": {
    "name": "ipython",
    "version": 3
   },
   "file_extension": ".py",
   "mimetype": "text/x-python",
   "name": "python",
   "nbconvert_exporter": "python",
   "pygments_lexer": "ipython3",
   "version": "3.12.7"
  }
 },
 "nbformat": 4,
 "nbformat_minor": 5
}
