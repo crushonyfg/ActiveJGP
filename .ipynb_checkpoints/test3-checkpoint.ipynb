{
 "cells": [
  {
   "cell_type": "code",
   "execution_count": 1,
   "id": "05b70709-39cc-4c13-85cb-c5670aee756d",
   "metadata": {},
   "outputs": [],
   "source": [
    "from JumpGP_code_py.cov.covSum import covSum\n",
    "from JumpGP_code_py.cov.covSEard import covSEard\n",
    "from JumpGP_code_py.cov.covNoise import covNoise\n",
    "from JumpGP_code_py.lik.loglikelihood import loglikelihood\n",
    "import numpy as np\n",
    "from scipy.optimize import minimize\n",
    "from JumpGP_code_py.local_linearfit import local_linearfit\n",
    "from JumpGP_code_py.calculate_gx import calculate_gx\n",
    "from JumpGP_code_py.maximize_PD import maximize_PD\n",
    "from JumpGP_code_py.JumpGP_LD import JumpGP_LD\n",
    "from JumpGP_code_py.simulate_case import simulate_case\n",
    "\n",
    "import matplotlib.pyplot as plt\n",
    "from sklearn.neighbors import NearestNeighbors\n",
    "from skimage import measure\n",
    "\n",
    "import numpy as np\n",
    "from scipy.optimize import minimize\n",
    "from scipy.linalg import cholesky\n",
    "from scipy.stats import norm\n",
    "\n",
    "from JumpGP_code_py.lik.loglikelihood import loglikelihood\n",
    "from JumpGP_code_py.calculate_gx import calculate_gx\n",
    "from JumpGP_code_py.cov.covSum import covSum\n",
    "from JumpGP_code_py.cov.covSEard import covSEard\n",
    "from JumpGP_code_py.cov.covNoise import covNoise\n",
    "from JumpGP_code_py.lik.loglikelihood import loglikelihood\n",
    "\n",
    "from ActiveJGP import ActiveJGP\n",
    "\n",
    "import importlib\n",
    "\n",
    "import numpy as np\n",
    "import matplotlib.pyplot as plt\n",
    "\n",
    "from JumpGP_code_py.cov.covSum import covSum\n",
    "from JumpGP_code_py.cov.covSEard import covSEard\n",
    "from JumpGP_code_py.cov.covNoise import covNoise\n",
    "from JumpGP_code_py.lik.loglikelihood import loglikelihood\n",
    "from JumpGP_code_py.local_linearfit import local_linearfit\n",
    "from JumpGP_code_py.maximize_PD import maximize_PD\n",
    "from JumpGP_code_py.calculate_gx import calculate_gx"
   ]
  },
  {
   "cell_type": "code",
   "execution_count": 2,
   "id": "f5b2fc36-71d0-4385-b6ac-1f2b2de3f508",
   "metadata": {},
   "outputs": [],
   "source": [
    "x, y, xt = (np.array([[-0.24433199,  0.0504445 ,  0.47479247, -0.63858668,  0.00224485],\n",
    "        [-0.63895818,  0.06153958,  0.74409429,  0.16581657,  0.44921288],\n",
    "        [ 0.15139006,  0.14151837,  0.16331329, -0.55879265, -0.19611712],\n",
    "        [-0.14444252,  0.7385595 ,  0.50661664,  0.00286416, -1.17253819],\n",
    "        [-0.73882793,  0.69109294, -0.04839477, -0.17719018,  0.224128  ],\n",
    "        [-0.38198806, -0.52888474,  0.71898291,  0.49619065, -0.88483679],\n",
    "        [-0.37453679, -0.42441857,  0.34844396,  0.75173337, -0.55746313],\n",
    "        [ 0.3256974 , -0.56355434,  0.3122346 ,  0.12420065, -0.34879665],\n",
    "        [-0.09030511,  0.7568936 , -0.11590703, -1.57633405, -0.33979573],\n",
    "        [-1.35950116,  0.25250721,  0.76261812,  0.89102322,  0.2697348 ],\n",
    "        [ 0.26191327,  0.49106946,  1.71255363,  0.27519452, -1.31822318],\n",
    "        [-0.80266502,  0.41105912,  0.55013768,  1.03295145,  0.27265339],\n",
    "        [-0.80339285, -0.85025974,  0.2154507 ,  0.03102398,  0.64398248],\n",
    "        [-0.00844478, -0.78950884, -0.33983383, -0.53106931, -0.64198102],\n",
    "        [-0.80376203,  0.64068238,  0.36799789,  1.06344552, -0.97662747]]),\n",
    " np.array([[ 1.62851399],\n",
    "        [-0.02941929],\n",
    "        [ 0.18766815],\n",
    "        [ 1.37645518],\n",
    "        [-1.20629736],\n",
    "        [-0.17866224],\n",
    "        [-2.24546244],\n",
    "        [ 0.41459583],\n",
    "        [-1.42786274],\n",
    "        [ 0.25498326],\n",
    "        [-0.33142672],\n",
    "        [-1.85594592],\n",
    "        [ 3.25267642],\n",
    "        [ 0.13420821],\n",
    "        [ 1.04677757]]),\n",
    " np.array([[-0.7572563 ,  0.229991  ,  0.98187091, -0.54346067, -0.47225854]]))"
   ]
  },
  {
   "cell_type": "code",
   "execution_count": 3,
   "id": "eb79c899-de3f-48fe-a66d-b077ed4afec1",
   "metadata": {
    "scrolled": true
   },
   "outputs": [
    {
     "data": {
      "text/plain": [
       "{'x': array([[-0.24433199,  0.0504445 ,  0.47479247, -0.63858668,  0.00224485],\n",
       "        [-0.63895818,  0.06153958,  0.74409429,  0.16581657,  0.44921288],\n",
       "        [ 0.15139006,  0.14151837,  0.16331329, -0.55879265, -0.19611712],\n",
       "        [-0.14444252,  0.7385595 ,  0.50661664,  0.00286416, -1.17253819],\n",
       "        [-0.73882793,  0.69109294, -0.04839477, -0.17719018,  0.224128  ],\n",
       "        [-0.38198806, -0.52888474,  0.71898291,  0.49619065, -0.88483679],\n",
       "        [-0.37453679, -0.42441857,  0.34844396,  0.75173337, -0.55746313],\n",
       "        [ 0.3256974 , -0.56355434,  0.3122346 ,  0.12420065, -0.34879665],\n",
       "        [-0.09030511,  0.7568936 , -0.11590703, -1.57633405, -0.33979573],\n",
       "        [-1.35950116,  0.25250721,  0.76261812,  0.89102322,  0.2697348 ],\n",
       "        [ 0.26191327,  0.49106946,  1.71255363,  0.27519452, -1.31822318],\n",
       "        [-0.80266502,  0.41105912,  0.55013768,  1.03295145,  0.27265339],\n",
       "        [-0.80339285, -0.85025974,  0.2154507 ,  0.03102398,  0.64398248],\n",
       "        [-0.00844478, -0.78950884, -0.33983383, -0.53106931, -0.64198102],\n",
       "        [-0.80376203,  0.64068238,  0.36799789,  1.06344552, -0.97662747]]),\n",
       " 'y': array([[ 1.62851399],\n",
       "        [-0.02941929],\n",
       "        [ 0.18766815],\n",
       "        [ 1.37645518],\n",
       "        [-1.20629736],\n",
       "        [-0.17866224],\n",
       "        [-2.24546244],\n",
       "        [ 0.41459583],\n",
       "        [-1.42786274],\n",
       "        [ 0.25498326],\n",
       "        [-0.33142672],\n",
       "        [-1.85594592],\n",
       "        [ 3.25267642],\n",
       "        [ 0.13420821],\n",
       "        [ 1.04677757]]),\n",
       " 'RR': np.float64(nan),\n",
       " 'fs': array([[1.62851399]]),\n",
       " 'sigma': np.float64(0.0),\n",
       " 'xt': array([[-0.7572563 ,  0.229991  ,  0.98187091, -0.54346067, -0.47225854]]),\n",
       " 'px': array([[-0.24433199,  0.0504445 ,  0.47479247, -0.63858668,  0.00224485],\n",
       "        [-0.63895818,  0.06153958,  0.74409429,  0.16581657,  0.44921288],\n",
       "        [ 0.15139006,  0.14151837,  0.16331329, -0.55879265, -0.19611712],\n",
       "        [-0.14444252,  0.7385595 ,  0.50661664,  0.00286416, -1.17253819],\n",
       "        [-0.73882793,  0.69109294, -0.04839477, -0.17719018,  0.224128  ],\n",
       "        [-0.38198806, -0.52888474,  0.71898291,  0.49619065, -0.88483679],\n",
       "        [-0.37453679, -0.42441857,  0.34844396,  0.75173337, -0.55746313],\n",
       "        [ 0.3256974 , -0.56355434,  0.3122346 ,  0.12420065, -0.34879665],\n",
       "        [-0.09030511,  0.7568936 , -0.11590703, -1.57633405, -0.33979573],\n",
       "        [-1.35950116,  0.25250721,  0.76261812,  0.89102322,  0.2697348 ],\n",
       "        [ 0.26191327,  0.49106946,  1.71255363,  0.27519452, -1.31822318],\n",
       "        [-0.80266502,  0.41105912,  0.55013768,  1.03295145,  0.27265339],\n",
       "        [-0.80339285, -0.85025974,  0.2154507 ,  0.03102398,  0.64398248],\n",
       "        [-0.00844478, -0.78950884, -0.33983383, -0.53106931, -0.64198102],\n",
       "        [-0.80376203,  0.64068238,  0.36799789,  1.06344552, -0.97662747]]),\n",
       " 'pxt': array([[-0.7572563 ,  0.229991  ,  0.98187091, -0.54346067, -0.47225854]]),\n",
       " 'nll': np.float64(1326005.8237011367),\n",
       " 'r': array([[ True],\n",
       "        [False],\n",
       "        [False],\n",
       "        [False],\n",
       "        [False],\n",
       "        [False],\n",
       "        [False],\n",
       "        [False],\n",
       "        [False],\n",
       "        [False],\n",
       "        [False],\n",
       "        [False],\n",
       "        [False],\n",
       "        [False],\n",
       "        [False]]),\n",
       " 'gamma': array([[nan],\n",
       "        [nan],\n",
       "        [nan],\n",
       "        [nan],\n",
       "        [nan],\n",
       "        [nan],\n",
       "        [nan],\n",
       "        [nan],\n",
       "        [nan],\n",
       "        [nan],\n",
       "        [nan],\n",
       "        [nan],\n",
       "        [nan],\n",
       "        [nan],\n",
       "        [nan]]),\n",
       " 'nw': np.float64(359.0782434570532),\n",
       " 'w': array([-0.55245391, -0.11555948, -0.25524521,  0.57813701, -0.51247907,\n",
       "         0.13933186]),\n",
       " 'ms': 1.62851399,\n",
       " 'logtheta': array([  0.        ,   0.        ,   0.        ,   0.        ,\n",
       "          0.        , -12.88377022, -12.88377022]),\n",
       " 'cv': [<function JumpGP_code_py.cov.covSum.covSum(covfunc, logtheta=None, x=None, z=None)>,\n",
       "  [<function JumpGP_code_py.cov.covSEard.covSEard(loghyper=None, x=None, z=None)>,\n",
       "   <function JumpGP_code_py.cov.covNoise.covNoise(logtheta=None, x=None, z=None)>]],\n",
       " 'mu_t': array([[1.62851399]]),\n",
       " 'sig2_t': array([[1.14246021e-11]])}"
      ]
     },
     "execution_count": 3,
     "metadata": {},
     "output_type": "execute_result"
    }
   ],
   "source": [
    "pred, _, tmp_model, _ = JumpGP_LD(x, y, xt, 'CEM', 0)\n",
    "tmp_model"
   ]
  },
  {
   "cell_type": "code",
   "execution_count": 4,
   "id": "6a763fbb-754b-4d32-b17f-15d381391d43",
   "metadata": {},
   "outputs": [],
   "source": [
    "args = []\n",
    "mode = 'CEM'\n",
    "cv = [covSum, [covSEard, covNoise]]\n",
    "d = x.shape[1]  # Get the number of features (columns)\n",
    "px = x\n",
    "pxt = xt\n",
    "\n",
    "# Initial estimation of the boundary B(x)\n",
    "logtheta = np.zeros(d + 2)\n",
    "logtheta[d + 2 - 1] = -1.15\n",
    "if len(args)>0:\n",
    "    logtheta = args[0]\n",
    "w, _ = local_linearfit(x, y, xt)\n",
    "nw = np.linalg.norm(w)\n",
    "w = w / nw"
   ]
  },
  {
   "cell_type": "code",
   "execution_count": 5,
   "id": "10a4cd84-f5b8-4b79-b320-136ee6c2a793",
   "metadata": {},
   "outputs": [
    {
     "data": {
      "text/plain": [
       "array([[-0.32359568],\n",
       "       [-0.57130405],\n",
       "       [-0.44618846],\n",
       "       [ 0.37348522],\n",
       "       [-0.43988888],\n",
       "       [-0.19188523]])"
      ]
     },
     "execution_count": 5,
     "metadata": {},
     "output_type": "execute_result"
    }
   ],
   "source": [
    "w"
   ]
  },
  {
   "cell_type": "code",
   "execution_count": 6,
   "id": "364d2faf-c8d0-46b9-95f2-32754a9d7d40",
   "metadata": {},
   "outputs": [],
   "source": [
    "b = np.arange(-1 + w[0].item(), 1 + w[0].item() , 0.01)"
   ]
  },
  {
   "cell_type": "code",
   "execution_count": 7,
   "id": "b53cfaa5-a259-4a44-a168-5c206490b8b2",
   "metadata": {},
   "outputs": [],
   "source": [
    "fd = []\n",
    "for bi in b:\n",
    "    w_d = w.copy()\n",
    "    w_d[0] = bi\n",
    "    gx, _ = calculate_gx(px, w_d)\n",
    "    r = gx >= 0\n",
    "    var_r = np.var(y[r], ddof=1) if np.sum(r) > 1 else 0\n",
    "    var_not_r = np.var(y[~r], ddof=1) if np.sum(~r) > 1 else 0\n",
    "    fd.append(np.mean(r) * var_r + np.mean(~r) * var_not_r)"
   ]
  },
  {
   "cell_type": "code",
   "execution_count": 8,
   "id": "a0808a36-bd24-4a29-a31e-8c957eb2b87c",
   "metadata": {},
   "outputs": [],
   "source": [
    "k = np.nanargmin(fd)"
   ]
  },
  {
   "cell_type": "code",
   "execution_count": 9,
   "id": "92441d99-43bd-414d-9bc8-7a1d8d7917af",
   "metadata": {},
   "outputs": [
    {
     "data": {
      "text/plain": [
       "np.int64(55)"
      ]
     },
     "execution_count": 9,
     "metadata": {},
     "output_type": "execute_result"
    }
   ],
   "source": [
    "k"
   ]
  },
  {
   "cell_type": "code",
   "execution_count": 10,
   "id": "7ef72673-52de-41b0-95db-1aa2328e3510",
   "metadata": {},
   "outputs": [],
   "source": [
    "w[0] = b[k]\n",
    "w = nw * w"
   ]
  },
  {
   "cell_type": "markdown",
   "id": "1f9d825d-1f69-4ad6-8580-ef72c1c0a8c2",
   "metadata": {},
   "source": [
    "# maximize_PD"
   ]
  },
  {
   "cell_type": "code",
   "execution_count": 11,
   "id": "af2cc3c7-12df-4478-9c07-5174abdc2c34",
   "metadata": {},
   "outputs": [
    {
     "name": "stdout",
     "output_type": "stream",
     "text": [
      "Initial boundary visualization\n",
      "now k is 0\n",
      "now k is 1\n",
      "now k is 2\n"
     ]
    }
   ],
   "source": [
    "bVerbose = 1\n",
    "nw = np.linalg.norm(w)\n",
    "w = w / nw\n",
    "nIter = 100\n",
    "\n",
    "phi_xt = np.dot(np.hstack(([1], pxt[0])), w) #phi_xt shape (1,Nt)\n",
    "w = w * np.sign(phi_xt)\n",
    "gx, phi_x = calculate_gx(px, w)\n",
    "\n",
    "r = gx >= 0\n",
    "# r = np.squeeze(r)\n",
    "\n",
    "if bVerbose:\n",
    "    print(\"Initial boundary visualization\")\n",
    "\n",
    "err_flag = False\n",
    "for k in range(10):\n",
    "    print(f\"now k is {k}\")\n",
    "    r1 = r.flatten()\n",
    "    ms = np.mean(y[r1]).item()\n",
    "    try:\n",
    "        logtheta = minimize(loglikelihood, logtheta, args=(covSum, [covSEard, covNoise], x[r1,:], y[r1] - ms), options={'maxiter': nIter}).x\n",
    "    except:\n",
    "        print(f\"we fail at iteration {k}\")\n",
    "        err_flag = True\n",
    "\n",
    "    K = covSum([covSEard, covNoise], logtheta, x[r1,:])\n",
    "    _, Kt = covSum([covSEard, covNoise], logtheta, x[r1,:], x)\n",
    "    L = cholesky(K, lower=True)\n",
    "    Ly = np.linalg.solve(L, y[r1] - ms)\n",
    "    LK = np.linalg.solve(L, Kt)\n",
    "    fs = np.dot(LK.T, Ly) + ms\n",
    "    \n",
    "    sigma = np.sqrt(np.mean((y[r1] - fs[r1]) ** 2))\n",
    "    \n",
    "    like = norm.pdf(y, loc=fs, scale=sigma)\n",
    "    RR = norm.pdf(2.5 * sigma, loc=0, scale=sigma)\n",
    "    prior_z = 1 / (1 + np.exp(-0.05 * nw * gx))\n",
    "    prior_z = prior_z.reshape(-1,1)\n",
    "    pos_z = prior_z * like / (prior_z * like + (1 - prior_z) * RR)\n",
    "    \n",
    "    r = pos_z >= 0.5\n",
    "    # r1 = r.flatten()\n",
    "    if not r.any():  # r 中没有任何 True 值\n",
    "        # 找到 pos_z 中最大值的位置\n",
    "        max_index = np.argmax(pos_z)\n",
    "        # 将该位置的 r 值设为 True\n",
    "        r[max_index] = True\n",
    "    \n",
    "    def wfun(wo):\n",
    "        phi_w = np.dot(phi_x, wo)\n",
    "        return -np.sum(r.T * np.log(1 / (1 + np.exp(-phi_w))) + (1 - r).T * np.log(1 - 1 / (1 + np.exp(-phi_w))) )\n",
    "\n",
    "    w_flattened = w.ravel()\n",
    "    from scipy.optimize import LinearConstraint\n",
    "    lc = LinearConstraint(-np.array([1, *pxt.flatten()]), ub=0)\n",
    "\n",
    "    # constraints = {'type': 'ineq', 'fun': lambda wo: np.dot(np.array([1, *pxt.flatten()]), wo)}  # -[1, pxt]\n",
    "    w_new = minimize(wfun, w_flattened, constraints=lc, options={'disp': False}).x\n",
    "    # constraints = {'type': 'ineq', 'fun': lambda wo: -np.array([1, *wo])}  # -[1, pxt]\n",
    "    # w_new = minimize(wfun, w_flattened, constraints=constraints, options={'disp': False}).x\n",
    "    # w_new = minimize(wfun, w_flattened, bounds=[(-np.inf, np.inf)], method='SLSQP').x\n",
    "    # w_new = w_new.reshape(w.shape)\n",
    "    conv_crit = np.linalg.norm(w_new / np.linalg.norm(w_new) - w / np.linalg.norm(w))\n",
    "    if conv_crit < 1e-3:\n",
    "        break\n",
    "    \n",
    "    w = w_new\n",
    "    nw = np.linalg.norm(w)\n",
    "    w = w / nw\n",
    "    gx, phi_x = calculate_gx(px, w)\n",
    "    \n",
    "    if err_flag:\n",
    "        break"
   ]
  },
  {
   "cell_type": "code",
   "execution_count": 12,
   "id": "b0cd5d63-010f-472a-9f78-e502fd8a5b1f",
   "metadata": {},
   "outputs": [
    {
     "data": {
      "text/plain": [
       "array([], shape=(0, 5), dtype=float64)"
      ]
     },
     "execution_count": 12,
     "metadata": {},
     "output_type": "execute_result"
    }
   ],
   "source": [
    "r1 = r.flatten()\n",
    "x[r1,:]"
   ]
  },
  {
   "cell_type": "code",
   "execution_count": 13,
   "id": "a8802db0-b76d-4355-ace6-dc2880a3a3e3",
   "metadata": {},
   "outputs": [],
   "source": [
    "K = covSum([covSEard, covNoise], logtheta, x[r1,:])\n",
    "Ktt, Kt = covSum([covSEard, covNoise], logtheta, x[r1,:], xt)\n",
    "L = cholesky(K, lower=True)\n",
    "Ly = np.linalg.solve(L, y[r1] - ms)\n",
    "LK = np.linalg.solve(L, Kt)\n",
    "fs = np.dot(LK.T, Ly) + ms"
   ]
  },
  {
   "cell_type": "code",
   "execution_count": 17,
   "id": "a6e5be5c-de21-45af-92d2-b6073d668d1f",
   "metadata": {},
   "outputs": [
    {
     "data": {
      "text/plain": [
       "array([[nan]])"
      ]
     },
     "execution_count": 17,
     "metadata": {},
     "output_type": "execute_result"
    }
   ],
   "source": [
    "fs"
   ]
  },
  {
   "cell_type": "code",
   "execution_count": 16,
   "id": "0430c47c-32da-471e-ac3c-064c4c32bc65",
   "metadata": {},
   "outputs": [
    {
     "name": "stdout",
     "output_type": "stream",
     "text": [
      "Initial boundary visualization\n"
     ]
    }
   ],
   "source": [
    "bVerbose = 1\n",
    "model = maximize_PD(x, y, xt, px, pxt, w, logtheta, cv, bVerbose)"
   ]
  },
  {
   "cell_type": "code",
   "execution_count": 17,
   "id": "c6765919-894a-4c0a-8ee8-36f253128ed8",
   "metadata": {},
   "outputs": [
    {
     "data": {
      "text/plain": [
       "{'x': array([[-0.24433199,  0.0504445 ,  0.47479247, -0.63858668,  0.00224485],\n",
       "        [-0.63895818,  0.06153958,  0.74409429,  0.16581657,  0.44921288],\n",
       "        [ 0.15139006,  0.14151837,  0.16331329, -0.55879265, -0.19611712],\n",
       "        [-0.14444252,  0.7385595 ,  0.50661664,  0.00286416, -1.17253819],\n",
       "        [-0.73882793,  0.69109294, -0.04839477, -0.17719018,  0.224128  ],\n",
       "        [-0.38198806, -0.52888474,  0.71898291,  0.49619065, -0.88483679],\n",
       "        [-0.37453679, -0.42441857,  0.34844396,  0.75173337, -0.55746313],\n",
       "        [ 0.3256974 , -0.56355434,  0.3122346 ,  0.12420065, -0.34879665],\n",
       "        [-0.09030511,  0.7568936 , -0.11590703, -1.57633405, -0.33979573],\n",
       "        [-1.35950116,  0.25250721,  0.76261812,  0.89102322,  0.2697348 ],\n",
       "        [ 0.26191327,  0.49106946,  1.71255363,  0.27519452, -1.31822318],\n",
       "        [-0.80266502,  0.41105912,  0.55013768,  1.03295145,  0.27265339],\n",
       "        [-0.80339285, -0.85025974,  0.2154507 ,  0.03102398,  0.64398248],\n",
       "        [-0.00844478, -0.78950884, -0.33983383, -0.53106931, -0.64198102],\n",
       "        [-0.80376203,  0.64068238,  0.36799789,  1.06344552, -0.97662747]]),\n",
       " 'y': array([[ 1.62851399],\n",
       "        [-0.02941929],\n",
       "        [ 0.18766815],\n",
       "        [ 1.37645518],\n",
       "        [-1.20629736],\n",
       "        [-0.17866224],\n",
       "        [-2.24546244],\n",
       "        [ 0.41459583],\n",
       "        [-1.42786274],\n",
       "        [ 0.25498326],\n",
       "        [-0.33142672],\n",
       "        [-1.85594592],\n",
       "        [ 3.25267642],\n",
       "        [ 0.13420821],\n",
       "        [ 1.04677757]]),\n",
       " 'RR': np.float64(nan),\n",
       " 'fs': array([[nan]]),\n",
       " 'sigma': np.float64(nan),\n",
       " 'xt': array([[-0.7572563 ,  0.229991  ,  0.98187091, -0.54346067, -0.47225854]]),\n",
       " 'px': array([[-0.24433199,  0.0504445 ,  0.47479247, -0.63858668,  0.00224485],\n",
       "        [-0.63895818,  0.06153958,  0.74409429,  0.16581657,  0.44921288],\n",
       "        [ 0.15139006,  0.14151837,  0.16331329, -0.55879265, -0.19611712],\n",
       "        [-0.14444252,  0.7385595 ,  0.50661664,  0.00286416, -1.17253819],\n",
       "        [-0.73882793,  0.69109294, -0.04839477, -0.17719018,  0.224128  ],\n",
       "        [-0.38198806, -0.52888474,  0.71898291,  0.49619065, -0.88483679],\n",
       "        [-0.37453679, -0.42441857,  0.34844396,  0.75173337, -0.55746313],\n",
       "        [ 0.3256974 , -0.56355434,  0.3122346 ,  0.12420065, -0.34879665],\n",
       "        [-0.09030511,  0.7568936 , -0.11590703, -1.57633405, -0.33979573],\n",
       "        [-1.35950116,  0.25250721,  0.76261812,  0.89102322,  0.2697348 ],\n",
       "        [ 0.26191327,  0.49106946,  1.71255363,  0.27519452, -1.31822318],\n",
       "        [-0.80266502,  0.41105912,  0.55013768,  1.03295145,  0.27265339],\n",
       "        [-0.80339285, -0.85025974,  0.2154507 ,  0.03102398,  0.64398248],\n",
       "        [-0.00844478, -0.78950884, -0.33983383, -0.53106931, -0.64198102],\n",
       "        [-0.80376203,  0.64068238,  0.36799789,  1.06344552, -0.97662747]]),\n",
       " 'pxt': array([[-0.7572563 ,  0.229991  ,  0.98187091, -0.54346067, -0.47225854]]),\n",
       " 'nll': np.float64(nan),\n",
       " 'r': array([[False],\n",
       "        [False],\n",
       "        [False],\n",
       "        [False],\n",
       "        [False],\n",
       "        [False],\n",
       "        [False],\n",
       "        [False],\n",
       "        [False],\n",
       "        [False],\n",
       "        [False],\n",
       "        [False],\n",
       "        [False],\n",
       "        [False],\n",
       "        [False]]),\n",
       " 'gamma': array([[nan],\n",
       "        [nan],\n",
       "        [nan],\n",
       "        [nan],\n",
       "        [nan],\n",
       "        [nan],\n",
       "        [nan],\n",
       "        [nan],\n",
       "        [nan],\n",
       "        [nan],\n",
       "        [nan],\n",
       "        [nan],\n",
       "        [nan],\n",
       "        [nan],\n",
       "        [nan]]),\n",
       " 'nw': np.float64(52.009611406311244),\n",
       " 'w': array([-0.79165185, -0.40365576, -0.13909726,  0.34804065, -0.25019612,\n",
       "        -0.08526975]),\n",
       " 'ms': nan,\n",
       " 'logtheta': array([  0.        ,   0.        ,   0.        ,   0.        ,\n",
       "          0.        , -20.06405866, -12.94687274]),\n",
       " 'cv': [<function JumpGP_code_py.cov.covSum.covSum(covfunc, logtheta=None, x=None, z=None)>,\n",
       "  [<function JumpGP_code_py.cov.covSEard.covSEard(loghyper=None, x=None, z=None)>,\n",
       "   <function JumpGP_code_py.cov.covNoise.covNoise(logtheta=None, x=None, z=None)>]],\n",
       " 'mu_t': array([[nan]]),\n",
       " 'sig2_t': array([[5.68184666e-12]])}"
      ]
     },
     "execution_count": 17,
     "metadata": {},
     "output_type": "execute_result"
    }
   ],
   "source": [
    "model"
   ]
  },
  {
   "cell_type": "code",
   "execution_count": 10,
   "id": "860c817d-84de-44d6-8d25-ee2a0174bbcf",
   "metadata": {},
   "outputs": [
    {
     "data": {
      "text/plain": [
       "np.float64(1.0)"
      ]
     },
     "execution_count": 10,
     "metadata": {},
     "output_type": "execute_result"
    }
   ],
   "source": [
    "y = np.array([1,2,3])\n",
    "gx = np.array([1,2,3])\n",
    "r = gx < 0\n",
    "var_r = np.var(y[r], ddof=1) if np.sum(r) > 1 else 0\n",
    "var_not_r = np.var(y[~r], ddof=1) if np.sum(~r) > 1 else 0\n",
    "np.mean(r) * var_r + np.mean(~r) * var_not_r"
   ]
  },
  {
   "cell_type": "code",
   "execution_count": 11,
   "id": "a285f312-f1ac-4f86-a408-3bbf15ef6d1d",
   "metadata": {},
   "outputs": [
    {
     "data": {
      "text/plain": [
       "np.float64(0.0)"
      ]
     },
     "execution_count": 11,
     "metadata": {},
     "output_type": "execute_result"
    }
   ],
   "source": [
    "np.mean(r) * var_r"
   ]
  },
  {
   "cell_type": "code",
   "execution_count": 12,
   "id": "12c5e048-0b3b-4ae3-9c26-8920d62a646b",
   "metadata": {},
   "outputs": [
    {
     "data": {
      "text/plain": [
       "np.float64(1.0)"
      ]
     },
     "execution_count": 12,
     "metadata": {},
     "output_type": "execute_result"
    }
   ],
   "source": [
    "np.mean(~r) * var_not_r"
   ]
  },
  {
   "cell_type": "code",
   "execution_count": null,
   "id": "a5534911-6b7a-40df-bf67-d5fb255091fe",
   "metadata": {},
   "outputs": [],
   "source": []
  }
 ],
 "metadata": {
  "kernelspec": {
   "display_name": "Python 3 (ipykernel)",
   "language": "python",
   "name": "python3"
  },
  "language_info": {
   "codemirror_mode": {
    "name": "ipython",
    "version": 3
   },
   "file_extension": ".py",
   "mimetype": "text/x-python",
   "name": "python",
   "nbconvert_exporter": "python",
   "pygments_lexer": "ipython3",
   "version": "3.12.7"
  }
 },
 "nbformat": 4,
 "nbformat_minor": 5
}
